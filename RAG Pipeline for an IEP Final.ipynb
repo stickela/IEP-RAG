{
 "cells": [
  {
   "cell_type": "markdown",
   "id": "7f4eaab4-e6e7-4cdc-8bbf-4368b54d3f57",
   "metadata": {},
   "source": [
    "# RAG PIPELINE FOR IEP"
   ]
  },
  {
   "cell_type": "code",
   "execution_count": 3,
   "id": "79557cc4-0e39-4d3a-85b0-1790052b5d36",
   "metadata": {},
   "outputs": [
    {
     "name": "stdout",
     "output_type": "stream",
     "text": [
      "Note: you may need to restart the kernel to use updated packages.\n"
     ]
    },
    {
     "name": "stderr",
     "output_type": "stream",
     "text": [
      "Traceback (most recent call last):\n",
      "  File \"<frozen runpy>\", line 198, in _run_module_as_main\n",
      "  File \"<frozen runpy>\", line 88, in _run_code\n",
      "  File \"E:\\Anaconda\\Lib\\site-packages\\pip\\__main__.py\", line 24, in <module>\n",
      "    sys.exit(_main())\n",
      "             ^^^^^^^\n",
      "  File \"E:\\Anaconda\\Lib\\site-packages\\pip\\_internal\\cli\\main.py\", line 65, in main\n",
      "    cmd_name, cmd_args = parse_command(args)\n",
      "                         ^^^^^^^^^^^^^^^^^^^\n",
      "  File \"E:\\Anaconda\\Lib\\site-packages\\pip\\_internal\\cli\\main_parser.py\", line 79, in parse_command\n",
      "    general_options, args_else = parser.parse_args(args)\n",
      "                                 ^^^^^^^^^^^^^^^^^^^^^^^\n",
      "  File \"E:\\Anaconda\\Lib\\optparse.py\", line 1371, in parse_args\n",
      "    values = self.get_default_values()\n",
      "             ^^^^^^^^^^^^^^^^^^^^^^^^^\n",
      "  File \"E:\\Anaconda\\Lib\\site-packages\\pip\\_internal\\cli\\parser.py\", line 279, in get_default_values\n",
      "    self.config.load()\n",
      "  File \"E:\\Anaconda\\Lib\\site-packages\\pip\\_internal\\configuration.py\", line 124, in load\n",
      "    self._load_config_files()\n",
      "  File \"E:\\Anaconda\\Lib\\site-packages\\pip\\_internal\\configuration.py\", line 246, in _load_config_files\n",
      "    config_files = dict(self.iter_config_files())\n",
      "                   ^^^^^^^^^^^^^^^^^^^^^^^^^^^^^^\n",
      "  File \"E:\\Anaconda\\Lib\\site-packages\\pip\\_internal\\configuration.py\", line 339, in iter_config_files\n",
      "    config_files = get_configuration_files()\n",
      "                   ^^^^^^^^^^^^^^^^^^^^^^^^^\n",
      "  File \"E:\\Anaconda\\Lib\\site-packages\\pip\\_internal\\configuration.py\", line 70, in get_configuration_files\n",
      "    os.path.join(path, CONFIG_BASENAME) for path in appdirs.site_config_dirs(\"pip\")\n",
      "                                                    ^^^^^^^^^^^^^^^^^^^^^^^^^^^^^^^\n",
      "  File \"E:\\Anaconda\\Lib\\site-packages\\pip\\_internal\\utils\\appdirs.py\", line 47, in site_config_dirs\n",
      "    dirval = _appdirs.site_config_dir(appname, appauthor=False, multipath=True)\n",
      "             ^^^^^^^^^^^^^^^^^^^^^^^^^^^^^^^^^^^^^^^^^^^^^^^^^^^^^^^^^^^^^^^^^^\n",
      "  File \"E:\\Anaconda\\Lib\\site-packages\\pip\\_vendor\\platformdirs\\__init__.py\", line 142, in site_config_dir\n",
      "    ).site_config_dir\n",
      "      ^^^^^^^^^^^^^^^\n",
      "  File \"E:\\Anaconda\\Lib\\site-packages\\pip\\_vendor\\platformdirs\\windows.py\", line 67, in site_config_dir\n",
      "    return self.site_data_dir\n",
      "           ^^^^^^^^^^^^^^^^^^\n",
      "  File \"E:\\Anaconda\\Lib\\site-packages\\pip\\_vendor\\platformdirs\\windows.py\", line 56, in site_data_dir\n",
      "    path = os.path.normpath(get_win_folder(\"CSIDL_COMMON_APPDATA\"))\n",
      "                            ^^^^^^^^^^^^^^^^^^^^^^^^^^^^^^^^^^^^^^\n",
      "  File \"E:\\Anaconda\\Lib\\site-packages\\pip\\_vendor\\platformdirs\\windows.py\", line 209, in get_win_folder_from_registry\n",
      "    directory, _ = winreg.QueryValueEx(key, shell_folder_name)\n",
      "                   ^^^^^^^^^^^^^^^^^^^^^^^^^^^^^^^^^^^^^^^^^^^\n",
      "FileNotFoundError: [WinError 2] The system cannot find the file specified\n"
     ]
    }
   ],
   "source": [
    "pip install -r requirements.txt"
   ]
  },
  {
   "cell_type": "code",
   "execution_count": 4,
   "id": "6cb07bb8-c558-44b8-9df5-3a747bd4b61b",
   "metadata": {},
   "outputs": [],
   "source": [
    "import os\n",
    "import aiohttp\n",
    "import asyncio\n",
    "import argparse\n",
    "import pdfplumber\n",
    "from bs4 import BeautifulSoup\n",
    "from concurrent.futures import ThreadPoolExecutor\n",
    "\n",
    "from langchain.docstore.document import Document\n",
    "from langchain.text_splitter import RecursiveCharacterTextSplitter\n",
    "from langchain.vectorstores import Chroma\n",
    "from langchain.embeddings import HuggingFaceEmbeddings"
   ]
  },
  {
   "cell_type": "markdown",
   "id": "272df34f-df3f-45fa-ac5b-7dd56eb33f84",
   "metadata": {},
   "source": [
    "## 1. Data Collection and Preprocessing \n",
    "Collect and preprocess relevant documents including:\n",
    "Occupational Outlook Handbook from the Bureau of Labor Statistics (https://www.bls.gov/ooh/)\n",
    "State educational standards for employment skills (e.g., 21st Century Skills)\n",
    "Sample IEP goals and transition planning documentation\n",
    "Implement effective text extraction and chunking strategies\n",
    "Create and store appropriate embeddings for efficient retrieval"
   ]
  },
  {
   "cell_type": "code",
   "execution_count": 5,
   "id": "e70fd582-657a-4081-9132-c94f24fb994d",
   "metadata": {},
   "outputs": [
    {
     "data": {
      "text/plain": [
       "CompletedProcess(args=['python', 'load_and_embed.py'], returncode=1)"
      ]
     },
     "execution_count": 5,
     "metadata": {},
     "output_type": "execute_result"
    }
   ],
   "source": [
    "import subprocess\n",
    "\n",
    "# Run the script without forcing rebuild\n",
    "subprocess.run([\"python\", \"load_and_embed.py\"])"
   ]
  },
  {
   "cell_type": "markdown",
   "id": "bedf4ff2-fcb6-43e4-99a3-7a44cdde8ff5",
   "metadata": {},
   "source": [
    "## 2. RAG Pipeline Implementation and Prompt Engineering\n",
    "Develop a retrieval component that can effectively find relevant information from:\n",
    "* Career requirements and standards from the Occupational Outlook Handbook\n",
    "* Educational standards that align with a student's career interests\n",
    "* Best practices for IEP goal development <br>\n",
    "\n",
    "Implement a generation component that:\n",
    "* Creates well-formed, measurable postsecondary goals\n",
    "* Develops aligned short-term objectives/benchmarks\n",
    "* Ensures compliance with IDEA 2004 requirements for transition planning\n",
    "\n",
    "Create effective prompts that:\n",
    "* Extract relevant information from student profiles\n",
    "* Guide the model to generate appropriately structured goals\n",
    "* Ensure alignment between postsecondary goals, industry standards, and educational standards\n",
    "* Include appropriate instructions for handling missing information or ambiguous cases"
   ]
  },
  {
   "cell_type": "markdown",
   "id": "243568ad-8f4f-4b24-91d7-25b575607975",
   "metadata": {},
   "source": [
    "---\n",
    "### Building an effective prompt\n",
    "\n",
    "To build an effective prompt, we start with a clear role assigment to help set the model's tone and perspective. This helps position the LLM as a domain specific expert in special education. Next, we include contextual inputs for grounding.  The student prile ensures the output is personalized to that student and the retrieved context adds external grounding retrieved from the RAG pipeline to anchor themodel's responses in the occupational Outlook Handbook and IDEA Compliance.  Then we layer actionalble insturctions - directing the LLM step by step and also andle ambigouous situations directing it to explain any assumptions. Most importantly, we give it a consistent output format.  This ensures that consistent formatting and alignment to standards in IEP documentation.  "
   ]
  },
  {
   "cell_type": "code",
   "execution_count": 6,
   "id": "802a3f6a-8347-43a9-82cb-3eb35da18bfd",
   "metadata": {},
   "outputs": [],
   "source": [
    "def build_prompt(student_profile, retrieved_context):\n",
    "    return f\"\"\"\n",
    "You are a special education expert creating IEP transition goals for high school students with disabilities.\n",
    "\n",
    "Student Profile:\n",
    "{student_profile}\n",
    "\n",
    "Reference Materials:\n",
    "{retrieved_context}\n",
    "\n",
    "Instructions:\n",
    "- Create a clear, measurable postsecondary goal based on the student’s career interest.\n",
    "- List 2–3 short-term objectives aligned with the goal.\n",
    "- Suggest specific transition services to support those objectives.\n",
    "- Include a final note on compliance with IDEA 2004.\n",
    "- If needed, explain any assumptions you made.\n",
    "\n",
    "Respond in this format:\n",
    "\n",
    "Measurable Postsecondary Goals:\n",
    "[Write two detailed goals here that explain what this student should focus on. One goal should relate to employment. One goal should relate to education and training.]\n",
    "\n",
    "Short-Term Objectives:\n",
    "1.\n",
    "2.\n",
    "3.\n",
    "\n",
    "Transition Services:\n",
    "1.\n",
    "2.\n",
    "\n",
    "Measurable annual goal aligned with standards\n",
    "[Relate the postsecondary goals to soft skills (i.e. listening) that the student should focus on in order to achieve success in their desired career path while aligning it with standards.]\n",
    "\n",
    "Compliance Note:\n",
    "[Explain any assumptions or IDEA alignment.]\n",
    "\n",
    "Response:\n",
    "\"\"\"\n"
   ]
  },
  {
   "cell_type": "code",
   "execution_count": 7,
   "id": "1e062726-891f-41ce-bb15-6fed969f6ebd",
   "metadata": {},
   "outputs": [],
   "source": [
    "# Importing relevent chunks\n",
    "from retriever import retrieve_relevant_chunks"
   ]
  },
  {
   "cell_type": "code",
   "execution_count": 11,
   "id": "26eae26e-e013-477e-a5e3-ddc70a536bbc",
   "metadata": {},
   "outputs": [],
   "source": [
    "# Specifying hugging face model used and hugging face token\n",
    "from huggingface_hub import InferenceClient\n",
    "\n",
    "HF_TOKEN = \"insert your token\"\n",
    "\n",
    "client = InferenceClient(model=\"HuggingFaceH4/zephyr-7b-beta\",\n",
    "                        token = HF_TOKEN)\n",
    "\n",
    "def generate_iep_plan(prompt):\n",
    "    return client.text_generation(prompt, max_new_tokens=700)"
   ]
  },
  {
   "cell_type": "markdown",
   "id": "396357ee-9b42-4736-b5e5-3999faffaa6c",
   "metadata": {},
   "source": [
    "## Example Testing"
   ]
  },
  {
   "cell_type": "code",
   "execution_count": 12,
   "id": "25a019ff-c33f-4c98-8586-a19c5f00055e",
   "metadata": {},
   "outputs": [],
   "source": [
    "# Example 1 \n",
    "student_profile = \"\"\"\n",
    "Clarence\n",
    "\n",
    "Student Information:\n",
    "15-year-old sophomore with a behavior disorder\n",
    "Completed the O*Net Interest Profiler assessment\n",
    "Shows strong interest in the \"Enterprising\" category\n",
    "Career interests: retail sales, driver/sales worker\n",
    "Prefers hands-on learning over academic instruction\n",
    "Assessment Results:\n",
    "\n",
    "O*Net Interest Profiler indicates strength in Enterprising activities\n",
    "Career suggestions include retail salesperson or driver/sales worker\n",
    "Student interview (\"Vision for the Future\") indicates interest in working at Walmart\n",
    "\n",
    "\"\"\""
   ]
  },
  {
   "cell_type": "code",
   "execution_count": 13,
   "id": "ba7e3c99-ca72-4a5a-844d-f24b4b954700",
   "metadata": {},
   "outputs": [],
   "source": [
    "# Step 1: Retrieve contextual information from vector DB\n",
    "context = retrieve_relevant_chunks(student_profile)\n",
    "\n",
    "# Step 2: Build the prompt with student info + context\n",
    "prompt = build_prompt(student_profile, context)\n",
    "\n",
    "# Step 3: Generate IEP goal plan\n",
    "response = generate_iep_plan(prompt)"
   ]
  },
  {
   "cell_type": "code",
   "execution_count": 14,
   "id": "e9745707-8cf9-4d47-ade5-be00f47921c2",
   "metadata": {},
   "outputs": [
    {
     "name": "stdout",
     "output_type": "stream",
     "text": [
      "\n",
      "Measurable Postsecondary Goals:\n",
      "1. By the end of senior year, Clarence will demonstrate the skills necessary to secure and maintain employment as a retail salesperson at Walmart by participating in a job shadowing program, completing a work-based learning experience, and practicing customer service skills during school-based simulations.\n",
      "2. By the end of senior year, Clarence will complete a high school diploma or equivalent and enroll in a postsecondary education or training program related to retail sales or customer service.\n",
      "\n",
      "Short-Term Objectives:\n",
      "1. By the end of junior year, Clarence will identify at least three local Walmart stores and contact the managers to inquire about job shadowing opportunities.\n",
      "2. By the end of senior year, Clarence will complete a minimum of 40 hours of work-based learning at a Walmart store, documenting his experiences in a journal and reflecting on what he learned.\n",
      "3. By the end of senior year, Clarence will participate in at least five school-based simulations of customer service scenarios, receiving feedback from teachers and peers on his communication and problem-solving skills.\n",
      "\n",
      "Transition Services:\n",
      "1. Job shadowing program: Clarence will be matched with a Walmart employee in a similar position to his desired career path. The employee will provide guidance and support as Clarence observes daily tasks and responsibilities.\n",
      "2. Work-based learning experience: Clarence will be placed in a Walmart store for a set number of hours each week, working alongside employees and learning the skills necessary for the job.\n",
      "3. School-based simulations: Teachers will create scenarios that simulate real-life customer service situations, allowing Clarence to practice his communication and problem-solving skills in a safe and supportive environment.\n",
      "\n",
      "Measurable annual goal aligned with standards:\n",
      "By the end of senior year, Clarence will demonstrate proficiency in active listening skills, as measured by a standardized assessment aligned with the National Standards for Civic Engagement.\n",
      "\n",
      "Compliance Note:\n",
      "This goal aligns with IDEA 2004 by addressing the student's transition needs related to employment and education, as well as his specific career interests. The short-term objectives and transition services are designed to provide Clarence with the skills and experiences necessary to achieve his postsecondary goals, while the measurable annual goal ensures that he is developing the soft skills necessary for success in his desired career path. The goal is also aligned with national standards, demonstrating that it is evidence-based and effective.\n"
     ]
    }
   ],
   "source": [
    "print(response)"
   ]
  },
  {
   "cell_type": "code",
   "execution_count": 15,
   "id": "8fc66f0d-df3e-4039-930c-2f6f06fb11c9",
   "metadata": {},
   "outputs": [],
   "source": [
    "# Example 2 \n",
    "student_profile = \"\"\"\n",
    "Mallory\n",
    "\n",
    "Student Information:\n",
    "17-year-old sophomore with ADHD\n",
    "Completed the O*Net Interest Profiler assessment\n",
    "Shows strong interest in the \"Conventional\" category\n",
    "Career interests: accounting, scientific research\n",
    "Gets caught up in details and needs specific instructions, doesn't always work well with others\n",
    "Assessment Results:\n",
    "\n",
    "O*Net Interest Profiler indicates strength in Conventional activities\n",
    "Career suggestions include accounting and scientific research\n",
    "Student interview (\"Vision for the Future\") indicates interest in shadowing at a university science department\n",
    "\n",
    "\"\"\""
   ]
  },
  {
   "cell_type": "code",
   "execution_count": 16,
   "id": "62c34df4-74ef-4b00-98e4-d63cb6bd4549",
   "metadata": {},
   "outputs": [],
   "source": [
    "# Step 1: Retrieve contextual information from vector DB\n",
    "context = retrieve_relevant_chunks(student_profile)\n",
    "\n",
    "# Step 2: Build the prompt with student info + context\n",
    "prompt = build_prompt(student_profile, context)\n",
    "\n",
    "# Step 3: Generate IEP goal plan\n",
    "response = generate_iep_plan(prompt)"
   ]
  },
  {
   "cell_type": "code",
   "execution_count": 17,
   "id": "854221ad-cb56-4033-8e7d-36c77574a047",
   "metadata": {},
   "outputs": [
    {
     "name": "stdout",
     "output_type": "stream",
     "text": [
      "\n",
      "Measurable Postsecondary Goals:\n",
      "1. By the end of senior year, Mallory will demonstrate the ability to accurately complete basic accounting tasks, such as balancing a checkbook and creating a simple budget, with 90% accuracy and in a timely manner.\n",
      "2. By the end of senior year, Mallory will participate in a university science department shadowing program for at least 20 hours, demonstrating an understanding of basic scientific concepts and procedures, and will be able to communicate her findings to a small group of peers.\n",
      "\n",
      "Short-Term Objectives:\n",
      "1. By the end of junior year, Mallory will be able to accurately complete a basic accounting worksheet, with 80% accuracy and in a timely manner.\n",
      "2. By the end of junior year, Mallory will be able to accurately label and identify basic scientific equipment, with 80% accuracy and in a timely manner.\n",
      "3. By the end of junior year, Mallory will be able to accurately follow a basic scientific procedure, with 80% accuracy and in a timely manner.\n",
      "\n",
      "Transition Services:\n",
      "1. Mallory will participate in a weekly accounting tutoring session, focusing on basic skills and concepts, for the duration of junior and senior year.\n",
      "2. Mallory will participate in a weekly science lab session, focusing on basic skills and concepts, for the duration of junior and senior year.\n",
      "3. Mallory will participate in a weekly job shadowing program at a local accounting firm, focusing on basic skills and concepts, for the duration of senior year.\n",
      "\n",
      "Measurable annual goal aligned with standards:\n",
      "Mallory will be able to accurately listen and follow instructions during classroom and lab activities, with 90% accuracy and in a timely manner, aligning with the National Standards for Effective Instruction in Accounting and the Next Generation Science Standards.\n",
      "\n",
      "Compliance Note:\n",
      "This goal aligns with the National Standards for Effective Instruction in Accounting, which emphasize the importance of listening and following instructions in accounting, and the Next Generation Science Standards, which emphasize the importance of listening and following instructions in scientific inquiry. This goal also aligns with the IEP requirement for measurable annual goals that are aligned with academic standards.\n"
     ]
    }
   ],
   "source": [
    "print(response)"
   ]
  },
  {
   "cell_type": "markdown",
   "id": "5832ef5b-e908-4b3d-8cb7-e94307549aa8",
   "metadata": {},
   "source": [
    "## Interface\n",
    "\n",
    "* Build a user-friendly interface that collects student information\n",
    "* Display generated goals, objectives, and alignments\n",
    "* Include explanations of how the goals connect to standards"
   ]
  },
  {
   "cell_type": "code",
   "execution_count": 18,
   "id": "f0dc8683-f39a-445c-82f3-790184495eac",
   "metadata": {},
   "outputs": [
    {
     "name": "stderr",
     "output_type": "stream",
     "text": [
      "Traceback (most recent call last):\n",
      "  File \"E:\\Anaconda\\Scripts\\streamlit-script.py\", line 6, in <module>\n",
      "    from streamlit.web.cli import main\n",
      "  File \"E:\\Anaconda\\Lib\\site-packages\\streamlit\\web\\cli.py\", line 24, in <module>\n",
      "    import click\n",
      "  File \"E:\\Anaconda\\Lib\\site-packages\\click\\__init__.py\", line 7, in <module>\n",
      "    from .core import Argument as Argument\n",
      "  File \"E:\\Anaconda\\Lib\\site-packages\\click\\core.py\", line 16, in <module>\n",
      "    from . import types\n",
      "  File \"E:\\Anaconda\\Lib\\site-packages\\click\\types.py\", line 9, in <module>\n",
      "    from ._compat import _get_argv_encoding\n",
      "  File \"E:\\Anaconda\\Lib\\site-packages\\click\\_compat.py\", line 510, in <module>\n",
      "    from ._winconsole import _get_windows_console_stream\n",
      "  File \"E:\\Anaconda\\Lib\\site-packages\\click\\_winconsole.py\", line 13, in <module>\n",
      "    from ctypes import byref\n",
      "  File \"E:\\Anaconda\\Lib\\ctypes\\__init__.py\", line 8, in <module>\n",
      "    from _ctypes import Union, Structure, Array\n",
      "ImportError: DLL load failed while importing _ctypes: The handle is invalid.\n"
     ]
    }
   ],
   "source": [
    "## Run app\n",
    "!streamlit run app.py"
   ]
  }
 ],
 "metadata": {
  "kernelspec": {
   "display_name": "Python [conda env:base] *",
   "language": "python",
   "name": "conda-base-py"
  },
  "language_info": {
   "codemirror_mode": {
    "name": "ipython",
    "version": 3
   },
   "file_extension": ".py",
   "mimetype": "text/x-python",
   "name": "python",
   "nbconvert_exporter": "python",
   "pygments_lexer": "ipython3",
   "version": "3.12.7"
  }
 },
 "nbformat": 4,
 "nbformat_minor": 5
}
